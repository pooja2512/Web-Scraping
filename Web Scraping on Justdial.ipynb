{
 "cells": [
  {
   "cell_type": "code",
   "execution_count": 7,
   "metadata": {},
   "outputs": [],
   "source": [
    "# Importing Necessary Libraries\n",
    "import pandas as pd\n",
    "import numpy as np\n",
    "% matplotlib inline\n",
    "from matplotlib import pyplot as plt\n",
    "import requests\n",
    "from bs4 import BeautifulSoup\n",
    "import re"
   ]
  },
  {
   "cell_type": "code",
   "execution_count": 8,
   "metadata": {},
   "outputs": [
    {
     "data": {
      "text/plain": [
       "<Response [200]>"
      ]
     },
     "execution_count": 8,
     "metadata": {},
     "output_type": "execute_result"
    }
   ],
   "source": [
    "headers = {'User-Agent': 'Mozilla/5.0 (Windows NT 6.1; WOW64; rv:50.0) Gecko/20100101 Firefox/50.0'}\n",
    "url = 'https://www.justdial.com/Mumbai/Gyms-in-Andheri-West/nct-11575244'\n",
    "# request data from server\n",
    "response = requests.get(url,headers = headers)\n",
    "response"
   ]
  },
  {
   "cell_type": "code",
   "execution_count": 9,
   "metadata": {},
   "outputs": [],
   "source": [
    "# crate BeautifulSoup to scrape required information\n",
    "soup = BeautifulSoup(response.content,'lxml')\n",
    "stores = soup.find_all('a',class_ ='nlogo lazy srtbyPic')"
   ]
  },
  {
   "cell_type": "code",
   "execution_count": 10,
   "metadata": {},
   "outputs": [],
   "source": [
    "# Create function stores_df to extract url and name of the gym\n",
    "def stores_df(stores):\n",
    "    df_list = []\n",
    "    for store in stores:\n",
    "        url = store['href']\n",
    "        title = store['title']\n",
    "        df_list.append({'url':url,\n",
    "                    'title': title})\n",
    "    return pd.DataFrame(df_list,columns = ['url','title'])\n",
    "\n",
    "# create function locations to extract location from dataframe created in stored_df function\n",
    "def locations(dataframe):\n",
    "    locations_store = [] \n",
    "    for title in dataframe['title']:\n",
    "        location = title.split('in')[-1].split(',')[0]\n",
    "        locations_store.append({'location': location})\n",
    "    return pd.DataFrame(locations_store)      \n",
    "\n",
    "# create function votes_stores to scrape votes of gyms\n",
    "def votes_stores(bsoup):\n",
    "    votes_list = []\n",
    "    for vote in bsoup.find_all('span',class_ ='rt_count lng_vote'):\n",
    "        votes = ''.join(re.findall('\\d+',vote.text))\n",
    "        votes_list.append({'votes': votes})\n",
    "    #return every 2 row \n",
    "    return votes_list[0:20:2]\n",
    "\n",
    "\n",
    "# create function to scrape opening and closing time of a Gym\n",
    "def time(df):\n",
    "    df_list = []\n",
    "    headers = {'User-Agent': 'Mozilla/5.0 (Windows NT 6.1; WOW64; rv:50.0) Gecko/20100101 Firefox/50.0'}\n",
    "    for url in df:\n",
    "        response = requests.get(url,headers = headers)\n",
    "        soup = BeautifulSoup(response.content, 'lxml')\n",
    "        opening_time = soup.find('span', class_ ='mreinflispn2').text.replace('\\t','').strip().split('-')[0].strip()\n",
    "        closing_time = soup.find('span', class_ ='mreinflispn2').text.replace('\\t','').strip().split('-')[-1].strip()\n",
    "        df_list.append({'opening_time':opening_time,\n",
    "                    'closing_time':closing_time})\n",
    "    return df_list\n",
    "\n",
    "\n",
    "# create function est_year to scrape established year of gym\n",
    "def est_year(df):\n",
    "    established_year  = []\n",
    "    # captures errors if any\n",
    "    errors = {}\n",
    "    for index,url in enumerate(df):\n",
    "        response = requests.get(url,headers = headers)\n",
    "        soup = BeautifulSoup(response.content,'lxml')\n",
    "        try:\n",
    "            year = int(soup.find_all('ul',class_ = 'alstdul')[-1].text.strip())\n",
    "            established_year.append({0:year})\n",
    "        except Exception as e:\n",
    "            errors[index] = url\n",
    "    return established_year,errors\n",
    "        \n"
   ]
  },
  {
   "cell_type": "code",
   "execution_count": 11,
   "metadata": {},
   "outputs": [],
   "source": [
    "df = stores_df(stores)\n",
    "location = locations(df)\n",
    "votes_df = votes_stores(soup)\n",
    "time_stores = time(df['url'])\n",
    "estab_year,error = est_year(df['url'])"
   ]
  },
  {
   "cell_type": "code",
   "execution_count": 21,
   "metadata": {},
   "outputs": [
    {
     "name": "stdout",
     "output_type": "stream",
     "text": [
      "Index 4\n"
     ]
    }
   ],
   "source": [
    "for item,value in error.items():\n",
    "    print(f\"Index {item}\")\n",
    "    pos = item\n",
    "    r = requests.get(error[item],headers = headers)\n",
    "    s = BeautifulSoup(r.content,'lxml')\n",
    "    y = int(s.find_all('ul',class_ = 'alstdul')[-2].text.strip())"
   ]
  },
  {
   "cell_type": "markdown",
   "metadata": {},
   "source": [
    "- As we can see error occurred at index 4. Hence we worked on it separately and extracted year from it"
   ]
  },
  {
   "cell_type": "code",
   "execution_count": 22,
   "metadata": {},
   "outputs": [
    {
     "data": {
      "text/html": [
       "<div>\n",
       "<style scoped>\n",
       "    .dataframe tbody tr th:only-of-type {\n",
       "        vertical-align: middle;\n",
       "    }\n",
       "\n",
       "    .dataframe tbody tr th {\n",
       "        vertical-align: top;\n",
       "    }\n",
       "\n",
       "    .dataframe thead th {\n",
       "        text-align: right;\n",
       "    }\n",
       "</style>\n",
       "<table border=\"1\" class=\"dataframe\">\n",
       "  <thead>\n",
       "    <tr style=\"text-align: right;\">\n",
       "      <th></th>\n",
       "      <th>0</th>\n",
       "    </tr>\n",
       "  </thead>\n",
       "  <tbody>\n",
       "    <tr>\n",
       "      <th>0</th>\n",
       "      <td>2013</td>\n",
       "    </tr>\n",
       "    <tr>\n",
       "      <th>1</th>\n",
       "      <td>2008</td>\n",
       "    </tr>\n",
       "    <tr>\n",
       "      <th>2</th>\n",
       "      <td>2014</td>\n",
       "    </tr>\n",
       "    <tr>\n",
       "      <th>3</th>\n",
       "      <td>2017</td>\n",
       "    </tr>\n",
       "    <tr>\n",
       "      <th>4</th>\n",
       "      <td>2006</td>\n",
       "    </tr>\n",
       "  </tbody>\n",
       "</table>\n",
       "</div>"
      ],
      "text/plain": [
       "      0\n",
       "0  2013\n",
       "1  2008\n",
       "2  2014\n",
       "3  2017\n",
       "4  2006"
      ]
     },
     "execution_count": 22,
     "metadata": {},
     "output_type": "execute_result"
    }
   ],
   "source": [
    "# Insert establish year at index 4 and keep everything else in dataframe as it is.\n",
    "year = pd.concat([pd.DataFrame(estab_year[:pos]),pd.DataFrame([y]),pd.DataFrame(estab_year[pos:])],ignore_index=True)\n",
    "year.head()"
   ]
  },
  {
   "cell_type": "code",
   "execution_count": 23,
   "metadata": {},
   "outputs": [
    {
     "name": "stdout",
     "output_type": "stream",
     "text": [
      "Number of observations: (10, 7)\n"
     ]
    },
    {
     "data": {
      "text/html": [
       "<div>\n",
       "<style scoped>\n",
       "    .dataframe tbody tr th:only-of-type {\n",
       "        vertical-align: middle;\n",
       "    }\n",
       "\n",
       "    .dataframe tbody tr th {\n",
       "        vertical-align: top;\n",
       "    }\n",
       "\n",
       "    .dataframe thead th {\n",
       "        text-align: right;\n",
       "    }\n",
       "</style>\n",
       "<table border=\"1\" class=\"dataframe\">\n",
       "  <thead>\n",
       "    <tr style=\"text-align: right;\">\n",
       "      <th></th>\n",
       "      <th>url</th>\n",
       "      <th>title</th>\n",
       "      <th>opening_time</th>\n",
       "      <th>closing_time</th>\n",
       "      <th>votes</th>\n",
       "      <th>location</th>\n",
       "      <th>0</th>\n",
       "    </tr>\n",
       "  </thead>\n",
       "  <tbody>\n",
       "    <tr>\n",
       "      <th>0</th>\n",
       "      <td>https://www.justdial.com/Mumbai/48-Fitness-(Cr...</td>\n",
       "      <td>48 Fitness (Crystal Point Mall) in Andheri Wes...</td>\n",
       "      <td>06:00 am</td>\n",
       "      <td>11:30 pm</td>\n",
       "      <td>324</td>\n",
       "      <td>Andheri West</td>\n",
       "      <td>2013</td>\n",
       "    </tr>\n",
       "    <tr>\n",
       "      <th>1</th>\n",
       "      <td>https://www.justdial.com/Mumbai/Fitness-First-...</td>\n",
       "      <td>Fitness First India Pvt Ltd (Mega Mall) in Osh...</td>\n",
       "      <td>10:00 am</td>\n",
       "      <td>07:00 pm</td>\n",
       "      <td>969</td>\n",
       "      <td>Oshiwara</td>\n",
       "      <td>2008</td>\n",
       "    </tr>\n",
       "    <tr>\n",
       "      <th>2</th>\n",
       "      <td>https://www.justdial.com/Mumbai/Endurance-Fitn...</td>\n",
       "      <td>Endurance Fitness in Lokhandwala Complex-Andhe...</td>\n",
       "      <td>08:00 am</td>\n",
       "      <td>08:00 pm</td>\n",
       "      <td>26</td>\n",
       "      <td>Lokhandwala Complex-Andheri West</td>\n",
       "      <td>2014</td>\n",
       "    </tr>\n",
       "    <tr>\n",
       "      <th>3</th>\n",
       "      <td>https://www.justdial.com/Mumbai/Forever-Fitnes...</td>\n",
       "      <td>Forever Fitness in Andheri West, Mumbai</td>\n",
       "      <td>11:00 am</td>\n",
       "      <td>07:30 pm</td>\n",
       "      <td>15</td>\n",
       "      <td>Andheri West</td>\n",
       "      <td>2017</td>\n",
       "    </tr>\n",
       "    <tr>\n",
       "      <th>4</th>\n",
       "      <td>https://www.justdial.com/Mumbai/Golds-Gym-Oppo...</td>\n",
       "      <td>Golds Gym in Andheri West, Mumbai</td>\n",
       "      <td>06:00 am</td>\n",
       "      <td>11:30 pm</td>\n",
       "      <td>1147</td>\n",
       "      <td>Andheri West</td>\n",
       "      <td>2006</td>\n",
       "    </tr>\n",
       "  </tbody>\n",
       "</table>\n",
       "</div>"
      ],
      "text/plain": [
       "                                                 url  \\\n",
       "0  https://www.justdial.com/Mumbai/48-Fitness-(Cr...   \n",
       "1  https://www.justdial.com/Mumbai/Fitness-First-...   \n",
       "2  https://www.justdial.com/Mumbai/Endurance-Fitn...   \n",
       "3  https://www.justdial.com/Mumbai/Forever-Fitnes...   \n",
       "4  https://www.justdial.com/Mumbai/Golds-Gym-Oppo...   \n",
       "\n",
       "                                               title opening_time  \\\n",
       "0  48 Fitness (Crystal Point Mall) in Andheri Wes...     06:00 am   \n",
       "1  Fitness First India Pvt Ltd (Mega Mall) in Osh...     10:00 am   \n",
       "2  Endurance Fitness in Lokhandwala Complex-Andhe...     08:00 am   \n",
       "3            Forever Fitness in Andheri West, Mumbai     11:00 am   \n",
       "4                  Golds Gym in Andheri West, Mumbai     06:00 am   \n",
       "\n",
       "  closing_time votes                           location     0  \n",
       "0     11:30 pm   324                       Andheri West  2013  \n",
       "1     07:00 pm   969                           Oshiwara  2008  \n",
       "2     08:00 pm    26   Lokhandwala Complex-Andheri West  2014  \n",
       "3     07:30 pm    15                       Andheri West  2017  \n",
       "4     11:30 pm  1147                       Andheri West  2006  "
      ]
     },
     "execution_count": 23,
     "metadata": {},
     "output_type": "execute_result"
    }
   ],
   "source": [
    "time = pd.DataFrame(time_stores,columns = ['opening_time','closing_time'])\n",
    "votes = pd.DataFrame(votes_df)\n",
    "location = pd.DataFrame(location)\n",
    "stores_justdial = pd.concat([df,time,votes,location,year],axis = 1)\n",
    "print(f\"Number of observations: {stores_justdial.shape}\")\n",
    "stores_justdial.head()"
   ]
  },
  {
   "cell_type": "code",
   "execution_count": 65,
   "metadata": {},
   "outputs": [],
   "source": [
    "stores_justdial.columns = ['url', 'title', 'opening_time', 'closing_time', 'votes', 'location', 'established_year']"
   ]
  },
  {
   "cell_type": "code",
   "execution_count": 66,
   "metadata": {},
   "outputs": [
    {
     "data": {
      "text/html": [
       "<div>\n",
       "<style scoped>\n",
       "    .dataframe tbody tr th:only-of-type {\n",
       "        vertical-align: middle;\n",
       "    }\n",
       "\n",
       "    .dataframe tbody tr th {\n",
       "        vertical-align: top;\n",
       "    }\n",
       "\n",
       "    .dataframe thead th {\n",
       "        text-align: right;\n",
       "    }\n",
       "</style>\n",
       "<table border=\"1\" class=\"dataframe\">\n",
       "  <thead>\n",
       "    <tr style=\"text-align: right;\">\n",
       "      <th></th>\n",
       "      <th>url</th>\n",
       "      <th>title</th>\n",
       "      <th>opening_time</th>\n",
       "      <th>closing_time</th>\n",
       "      <th>votes</th>\n",
       "      <th>location</th>\n",
       "      <th>established_year</th>\n",
       "    </tr>\n",
       "  </thead>\n",
       "  <tbody>\n",
       "    <tr>\n",
       "      <th>0</th>\n",
       "      <td>https://www.justdial.com/Mumbai/48-Fitness-(Cr...</td>\n",
       "      <td>48 Fitness (Crystal Point Mall) in Andheri Wes...</td>\n",
       "      <td>06:00 am</td>\n",
       "      <td>11:30 pm</td>\n",
       "      <td>324</td>\n",
       "      <td>Andheri West</td>\n",
       "      <td>2013</td>\n",
       "    </tr>\n",
       "    <tr>\n",
       "      <th>1</th>\n",
       "      <td>https://www.justdial.com/Mumbai/Fitness-First-...</td>\n",
       "      <td>Fitness First India Pvt Ltd (Mega Mall) in Osh...</td>\n",
       "      <td>10:00 am</td>\n",
       "      <td>07:00 pm</td>\n",
       "      <td>969</td>\n",
       "      <td>Oshiwara</td>\n",
       "      <td>2008</td>\n",
       "    </tr>\n",
       "    <tr>\n",
       "      <th>2</th>\n",
       "      <td>https://www.justdial.com/Mumbai/Endurance-Fitn...</td>\n",
       "      <td>Endurance Fitness in Lokhandwala Complex-Andhe...</td>\n",
       "      <td>08:00 am</td>\n",
       "      <td>08:00 pm</td>\n",
       "      <td>26</td>\n",
       "      <td>Lokhandwala Complex-Andheri West</td>\n",
       "      <td>2014</td>\n",
       "    </tr>\n",
       "    <tr>\n",
       "      <th>3</th>\n",
       "      <td>https://www.justdial.com/Mumbai/Forever-Fitnes...</td>\n",
       "      <td>Forever Fitness in Andheri West, Mumbai</td>\n",
       "      <td>11:00 am</td>\n",
       "      <td>07:30 pm</td>\n",
       "      <td>15</td>\n",
       "      <td>Andheri West</td>\n",
       "      <td>2017</td>\n",
       "    </tr>\n",
       "    <tr>\n",
       "      <th>4</th>\n",
       "      <td>https://www.justdial.com/Mumbai/Golds-Gym-Oppo...</td>\n",
       "      <td>Golds Gym in Andheri West, Mumbai</td>\n",
       "      <td>06:00 am</td>\n",
       "      <td>11:30 pm</td>\n",
       "      <td>1147</td>\n",
       "      <td>Andheri West</td>\n",
       "      <td>2006</td>\n",
       "    </tr>\n",
       "  </tbody>\n",
       "</table>\n",
       "</div>"
      ],
      "text/plain": [
       "                                                 url  \\\n",
       "0  https://www.justdial.com/Mumbai/48-Fitness-(Cr...   \n",
       "1  https://www.justdial.com/Mumbai/Fitness-First-...   \n",
       "2  https://www.justdial.com/Mumbai/Endurance-Fitn...   \n",
       "3  https://www.justdial.com/Mumbai/Forever-Fitnes...   \n",
       "4  https://www.justdial.com/Mumbai/Golds-Gym-Oppo...   \n",
       "\n",
       "                                               title opening_time  \\\n",
       "0  48 Fitness (Crystal Point Mall) in Andheri Wes...     06:00 am   \n",
       "1  Fitness First India Pvt Ltd (Mega Mall) in Osh...     10:00 am   \n",
       "2  Endurance Fitness in Lokhandwala Complex-Andhe...     08:00 am   \n",
       "3            Forever Fitness in Andheri West, Mumbai     11:00 am   \n",
       "4                  Golds Gym in Andheri West, Mumbai     06:00 am   \n",
       "\n",
       "  closing_time votes                           location  established_year  \n",
       "0     11:30 pm   324                       Andheri West              2013  \n",
       "1     07:00 pm   969                           Oshiwara              2008  \n",
       "2     08:00 pm    26   Lokhandwala Complex-Andheri West              2014  \n",
       "3     07:30 pm    15                       Andheri West              2017  \n",
       "4     11:30 pm  1147                       Andheri West              2006  "
      ]
     },
     "execution_count": 66,
     "metadata": {},
     "output_type": "execute_result"
    }
   ],
   "source": [
    "stores_justdial.head()"
   ]
  },
  {
   "cell_type": "code",
   "execution_count": null,
   "metadata": {},
   "outputs": [],
   "source": []
  }
 ],
 "metadata": {
  "kernelspec": {
   "display_name": "Python 3",
   "language": "python",
   "name": "python3"
  },
  "language_info": {
   "codemirror_mode": {
    "name": "ipython",
    "version": 3
   },
   "file_extension": ".py",
   "mimetype": "text/x-python",
   "name": "python",
   "nbconvert_exporter": "python",
   "pygments_lexer": "ipython3",
   "version": "3.6.4"
  }
 },
 "nbformat": 4,
 "nbformat_minor": 2
}
