{
 "cells": [
  {
   "cell_type": "code",
   "execution_count": 151,
   "metadata": {},
   "outputs": [],
   "source": [
    "# importing necessary libraries\n",
    "import pandas as pd\n",
    "from bs4 import BeautifulSoup\n",
    "import requests"
   ]
  },
  {
   "cell_type": "code",
   "execution_count": 152,
   "metadata": {},
   "outputs": [
    {
     "data": {
      "text/plain": [
       "<Response [200]>"
      ]
     },
     "execution_count": 152,
     "metadata": {},
     "output_type": "execute_result"
    }
   ],
   "source": [
    "#get the url \n",
    "url = 'https://en.wikipedia.org/wiki/Demographics_of_India'\n",
    "response = requests.get(url)\n",
    "response"
   ]
  },
  {
   "cell_type": "code",
   "execution_count": 153,
   "metadata": {},
   "outputs": [],
   "source": [
    "#create soup\n",
    "soup = BeautifulSoup(response.content,'lxml')"
   ]
  },
  {
   "cell_type": "markdown",
   "metadata": {},
   "source": [
    "Get table for population distribution by states / union territories"
   ]
  },
  {
   "cell_type": "code",
   "execution_count": 154,
   "metadata": {},
   "outputs": [],
   "source": [
    "#required table is under tag table and class = wikitable sortable\n",
    "pop_dist = soup.find_all('table', class_ = 'wikitable sortable')[4]"
   ]
  },
  {
   "cell_type": "code",
   "execution_count": 155,
   "metadata": {},
   "outputs": [],
   "source": [
    "states = []\n",
    "# get states names from the table    \n",
    "for tag in pop_dist.find_all('td'):\n",
    "    if tag.find('a'):\n",
    "        states.append(tag.find('a').text)\n",
    "        continue"
   ]
  },
  {
   "cell_type": "code",
   "execution_count": 156,
   "metadata": {},
   "outputs": [
    {
     "name": "stdout",
     "output_type": "stream",
     "text": [
      "['Uttar Pradesh', 'Maharashtra', 'Bihar', 'West Bengal', 'Madhya Pradesh', 'Tamil Nadu', 'Rajasthan', 'Karnataka', 'Gujarat', 'Andhra Pradesh', 'Odisha', 'Telangana', 'Kerala', 'Jharkhand', 'Assam', 'Punjab', 'Chhattisgarh', 'Haryana', 'Delhi', 'Jammu and Kashmir', 'Uttarakhand', 'Himachal Pradesh', 'Tripura', 'Meghalaya', 'Manipur', 'Nagaland', 'Goa', 'Arunachal Pradesh', 'Puducherry', 'Mizoram', 'Chandigarh', 'Sikkim', 'Andaman and Nicobar Islands', 'Dadra and Nagar Haveli', 'Daman and Diu', 'Lakshadweep']\n"
     ]
    }
   ],
   "source": [
    "print(states) "
   ]
  },
  {
   "cell_type": "code",
   "execution_count": 157,
   "metadata": {},
   "outputs": [],
   "source": [
    "# collect data for rest of the table \n",
    "# Respective column data is available at every 12th step.\n",
    "all_data = []\n",
    "for i in range(2,12):\n",
    "    all_data.append(pop_dist.find_all('td')[i::12])"
   ]
  },
  {
   "cell_type": "code",
   "execution_count": 158,
   "metadata": {},
   "outputs": [],
   "source": [
    "#create function to get individual column \n",
    "def get_data(all_data):\n",
    "    df_list = []\n",
    "    for data in all_data:\n",
    "        df_list.append(int(data.text.strip().replace(',','')))\n",
    "    return df_list"
   ]
  },
  {
   "cell_type": "code",
   "execution_count": 159,
   "metadata": {},
   "outputs": [],
   "source": [
    "df_dict = {0 : [], 2 : [], 3 : [], 4 : [], 5 : [], 6 : [], 7 : [], 8 : [], 9 : []}"
   ]
  },
  {
   "cell_type": "code",
   "execution_count": 160,
   "metadata": {},
   "outputs": [],
   "source": [
    "#call get data function and store the column in respective value of df_dict\n",
    "for i in range(len(df_dict)+1):\n",
    "    if i == 1:\n",
    "        continue\n",
    "    else:\n",
    "        data = get_data(all_data[i])\n",
    "        df_dict[i] = data"
   ]
  },
  {
   "cell_type": "code",
   "execution_count": 161,
   "metadata": {},
   "outputs": [],
   "source": [
    "percent = []\n",
    "for tag in all_data[1]:\n",
    "     percent.append(float(tag.text.strip()))"
   ]
  },
  {
   "cell_type": "code",
   "execution_count": 162,
   "metadata": {},
   "outputs": [
    {
     "data": {
      "text/html": [
       "<div>\n",
       "<style scoped>\n",
       "    .dataframe tbody tr th:only-of-type {\n",
       "        vertical-align: middle;\n",
       "    }\n",
       "\n",
       "    .dataframe tbody tr th {\n",
       "        vertical-align: top;\n",
       "    }\n",
       "\n",
       "    .dataframe thead th {\n",
       "        text-align: right;\n",
       "    }\n",
       "</style>\n",
       "<table border=\"1\" class=\"dataframe\">\n",
       "  <thead>\n",
       "    <tr style=\"text-align: right;\">\n",
       "      <th></th>\n",
       "      <th>states</th>\n",
       "      <th>0</th>\n",
       "      <th>2</th>\n",
       "      <th>3</th>\n",
       "      <th>4</th>\n",
       "      <th>5</th>\n",
       "      <th>6</th>\n",
       "      <th>7</th>\n",
       "      <th>8</th>\n",
       "      <th>9</th>\n",
       "      <th>percent</th>\n",
       "    </tr>\n",
       "  </thead>\n",
       "  <tbody>\n",
       "    <tr>\n",
       "      <th>0</th>\n",
       "      <td>Uttar Pradesh</td>\n",
       "      <td>199812341</td>\n",
       "      <td>104480510</td>\n",
       "      <td>95331831</td>\n",
       "      <td>9148679</td>\n",
       "      <td>930</td>\n",
       "      <td>155111022</td>\n",
       "      <td>44470455</td>\n",
       "      <td>240928</td>\n",
       "      <td>828</td>\n",
       "      <td>16.50</td>\n",
       "    </tr>\n",
       "    <tr>\n",
       "      <th>1</th>\n",
       "      <td>Maharashtra</td>\n",
       "      <td>112374333</td>\n",
       "      <td>58243056</td>\n",
       "      <td>54131277</td>\n",
       "      <td>4111779</td>\n",
       "      <td>929</td>\n",
       "      <td>61545441</td>\n",
       "      <td>50827531</td>\n",
       "      <td>307713</td>\n",
       "      <td>365</td>\n",
       "      <td>9.28</td>\n",
       "    </tr>\n",
       "    <tr>\n",
       "      <th>2</th>\n",
       "      <td>Bihar</td>\n",
       "      <td>104099452</td>\n",
       "      <td>54278157</td>\n",
       "      <td>49821295</td>\n",
       "      <td>4456862</td>\n",
       "      <td>918</td>\n",
       "      <td>92075028</td>\n",
       "      <td>11729609</td>\n",
       "      <td>94163</td>\n",
       "      <td>1102</td>\n",
       "      <td>8.60</td>\n",
       "    </tr>\n",
       "    <tr>\n",
       "      <th>3</th>\n",
       "      <td>West Bengal</td>\n",
       "      <td>91276115</td>\n",
       "      <td>46809027</td>\n",
       "      <td>44467088</td>\n",
       "      <td>2341939</td>\n",
       "      <td>950</td>\n",
       "      <td>62213676</td>\n",
       "      <td>29134060</td>\n",
       "      <td>88752</td>\n",
       "      <td>1030</td>\n",
       "      <td>7.54</td>\n",
       "    </tr>\n",
       "    <tr>\n",
       "      <th>4</th>\n",
       "      <td>Madhya Pradesh</td>\n",
       "      <td>72626809</td>\n",
       "      <td>37612306</td>\n",
       "      <td>35014503</td>\n",
       "      <td>2597803</td>\n",
       "      <td>931</td>\n",
       "      <td>52537899</td>\n",
       "      <td>20059666</td>\n",
       "      <td>308245</td>\n",
       "      <td>236</td>\n",
       "      <td>6.00</td>\n",
       "    </tr>\n",
       "  </tbody>\n",
       "</table>\n",
       "</div>"
      ],
      "text/plain": [
       "           states          0          2         3        4    5          6  \\\n",
       "0   Uttar Pradesh  199812341  104480510  95331831  9148679  930  155111022   \n",
       "1     Maharashtra  112374333   58243056  54131277  4111779  929   61545441   \n",
       "2           Bihar  104099452   54278157  49821295  4456862  918   92075028   \n",
       "3     West Bengal   91276115   46809027  44467088  2341939  950   62213676   \n",
       "4  Madhya Pradesh   72626809   37612306  35014503  2597803  931   52537899   \n",
       "\n",
       "          7       8     9  percent  \n",
       "0  44470455  240928   828    16.50  \n",
       "1  50827531  307713   365     9.28  \n",
       "2  11729609   94163  1102     8.60  \n",
       "3  29134060   88752  1030     7.54  \n",
       "4  20059666  308245   236     6.00  "
      ]
     },
     "execution_count": 162,
     "metadata": {},
     "output_type": "execute_result"
    }
   ],
   "source": [
    "states = pd.DataFrame(states,columns = ['states'])\n",
    "percent = pd.DataFrame(percent,columns = ['percent'])\n",
    "df = pd.DataFrame(df_dict)\n",
    "df = pd.concat([states,df,percent],axis = 1)\n",
    "df.head()"
   ]
  },
  {
   "cell_type": "code",
   "execution_count": 164,
   "metadata": {},
   "outputs": [
    {
     "name": "stdout",
     "output_type": "stream",
     "text": [
      "Number of observations in df (36, 11)\n"
     ]
    },
    {
     "data": {
      "text/html": [
       "<div>\n",
       "<style scoped>\n",
       "    .dataframe tbody tr th:only-of-type {\n",
       "        vertical-align: middle;\n",
       "    }\n",
       "\n",
       "    .dataframe tbody tr th {\n",
       "        vertical-align: top;\n",
       "    }\n",
       "\n",
       "    .dataframe thead th {\n",
       "        text-align: right;\n",
       "    }\n",
       "</style>\n",
       "<table border=\"1\" class=\"dataframe\">\n",
       "  <thead>\n",
       "    <tr style=\"text-align: right;\">\n",
       "      <th></th>\n",
       "      <th>states</th>\n",
       "      <th>population</th>\n",
       "      <th>male</th>\n",
       "      <th>female</th>\n",
       "      <th>diff_bet_male_and_female</th>\n",
       "      <th>sex ratio</th>\n",
       "      <th>rural</th>\n",
       "      <th>urban</th>\n",
       "      <th>area</th>\n",
       "      <th>density</th>\n",
       "      <th>percent</th>\n",
       "    </tr>\n",
       "  </thead>\n",
       "  <tbody>\n",
       "    <tr>\n",
       "      <th>0</th>\n",
       "      <td>Uttar Pradesh</td>\n",
       "      <td>199812341</td>\n",
       "      <td>104480510</td>\n",
       "      <td>95331831</td>\n",
       "      <td>9148679</td>\n",
       "      <td>930</td>\n",
       "      <td>155111022</td>\n",
       "      <td>44470455</td>\n",
       "      <td>240928</td>\n",
       "      <td>828</td>\n",
       "      <td>16.50</td>\n",
       "    </tr>\n",
       "    <tr>\n",
       "      <th>1</th>\n",
       "      <td>Maharashtra</td>\n",
       "      <td>112374333</td>\n",
       "      <td>58243056</td>\n",
       "      <td>54131277</td>\n",
       "      <td>4111779</td>\n",
       "      <td>929</td>\n",
       "      <td>61545441</td>\n",
       "      <td>50827531</td>\n",
       "      <td>307713</td>\n",
       "      <td>365</td>\n",
       "      <td>9.28</td>\n",
       "    </tr>\n",
       "    <tr>\n",
       "      <th>2</th>\n",
       "      <td>Bihar</td>\n",
       "      <td>104099452</td>\n",
       "      <td>54278157</td>\n",
       "      <td>49821295</td>\n",
       "      <td>4456862</td>\n",
       "      <td>918</td>\n",
       "      <td>92075028</td>\n",
       "      <td>11729609</td>\n",
       "      <td>94163</td>\n",
       "      <td>1102</td>\n",
       "      <td>8.60</td>\n",
       "    </tr>\n",
       "    <tr>\n",
       "      <th>3</th>\n",
       "      <td>West Bengal</td>\n",
       "      <td>91276115</td>\n",
       "      <td>46809027</td>\n",
       "      <td>44467088</td>\n",
       "      <td>2341939</td>\n",
       "      <td>950</td>\n",
       "      <td>62213676</td>\n",
       "      <td>29134060</td>\n",
       "      <td>88752</td>\n",
       "      <td>1030</td>\n",
       "      <td>7.54</td>\n",
       "    </tr>\n",
       "    <tr>\n",
       "      <th>4</th>\n",
       "      <td>Madhya Pradesh</td>\n",
       "      <td>72626809</td>\n",
       "      <td>37612306</td>\n",
       "      <td>35014503</td>\n",
       "      <td>2597803</td>\n",
       "      <td>931</td>\n",
       "      <td>52537899</td>\n",
       "      <td>20059666</td>\n",
       "      <td>308245</td>\n",
       "      <td>236</td>\n",
       "      <td>6.00</td>\n",
       "    </tr>\n",
       "  </tbody>\n",
       "</table>\n",
       "</div>"
      ],
      "text/plain": [
       "           states  population       male    female  diff_bet_male_and_female  \\\n",
       "0   Uttar Pradesh   199812341  104480510  95331831                   9148679   \n",
       "1     Maharashtra   112374333   58243056  54131277                   4111779   \n",
       "2           Bihar   104099452   54278157  49821295                   4456862   \n",
       "3     West Bengal    91276115   46809027  44467088                   2341939   \n",
       "4  Madhya Pradesh    72626809   37612306  35014503                   2597803   \n",
       "\n",
       "   sex ratio      rural     urban    area  density  percent  \n",
       "0        930  155111022  44470455  240928      828    16.50  \n",
       "1        929   61545441  50827531  307713      365     9.28  \n",
       "2        918   92075028  11729609   94163     1102     8.60  \n",
       "3        950   62213676  29134060   88752     1030     7.54  \n",
       "4        931   52537899  20059666  308245      236     6.00  "
      ]
     },
     "execution_count": 164,
     "metadata": {},
     "output_type": "execute_result"
    }
   ],
   "source": [
    "#change names of the columns\n",
    "df.columns = ['states','population','male','female','diff_bet_male_and_female','sex ratio','rural','urban','area','density','percent']\n",
    "print(f\"Number of observations in df {df.shape}\")\n",
    "df.head()"
   ]
  }
 ],
 "metadata": {
  "kernelspec": {
   "display_name": "Python 3",
   "language": "python",
   "name": "python3"
  },
  "language_info": {
   "codemirror_mode": {
    "name": "ipython",
    "version": 3
   },
   "file_extension": ".py",
   "mimetype": "text/x-python",
   "name": "python",
   "nbconvert_exporter": "python",
   "pygments_lexer": "ipython3",
   "version": "3.6.4"
  }
 },
 "nbformat": 4,
 "nbformat_minor": 2
}
