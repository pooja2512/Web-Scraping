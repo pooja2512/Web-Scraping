{
 "cells": [
  {
   "cell_type": "code",
   "execution_count": 1,
   "metadata": {},
   "outputs": [],
   "source": [
    "import pandas as pd\n",
    "import os\n",
    "import zipfile\n",
    "from bs4 import BeautifulSoup"
   ]
  },
  {
   "cell_type": "code",
   "execution_count": 79,
   "metadata": {},
   "outputs": [],
   "source": [
    "# Extract the zipfile\n",
    "with zipfile.ZipFile(r'C:\\Udacity\\Udacity_term2_projects\\t2_wrangle_data_analysis\\rt-html.zip','r') as rt_html:\n",
    "    rt_html.extractall()"
   ]
  },
  {
   "cell_type": "markdown",
   "metadata": {},
   "source": [
    "## `Let's try out on single movie for better idea`"
   ]
  },
  {
   "cell_type": "code",
   "execution_count": 80,
   "metadata": {},
   "outputs": [],
   "source": [
    "with open('rt_html\\et_the_extraterrestrial.html') as file:\n",
    "    soup = BeautifulSoup(file,'lxml')"
   ]
  },
  {
   "cell_type": "code",
   "execution_count": 81,
   "metadata": {},
   "outputs": [
    {
     "data": {
      "text/plain": [
       "'E.T. The Extra-Terrestrial\\xa0(1982)'"
      ]
     },
     "execution_count": 81,
     "metadata": {},
     "output_type": "execute_result"
    }
   ],
   "source": [
    "# Extract title\n",
    "soup.find('title').text[:-len(' - Rotten Tomatoes')]"
   ]
  },
  {
   "cell_type": "code",
   "execution_count": 82,
   "metadata": {},
   "outputs": [
    {
     "data": {
      "text/plain": [
       "'32313030'"
      ]
     },
     "execution_count": 82,
     "metadata": {},
     "output_type": "execute_result"
    }
   ],
   "source": [
    "# Extract user rating\n",
    "soup.find('div',class_ = 'audience-info hidden-xs superPageFontColor').find_all('div')[1].contents[-1].strip().replace(',','')"
   ]
  },
  {
   "cell_type": "code",
   "execution_count": 83,
   "metadata": {},
   "outputs": [
    {
     "data": {
      "text/plain": [
       "'72'"
      ]
     },
     "execution_count": 83,
     "metadata": {},
     "output_type": "execute_result"
    }
   ],
   "source": [
    "# extract Audience score\n",
    "soup.find('div',class_ = 'meter-value').find('span').contents[0][:-1]"
   ]
  },
  {
   "cell_type": "code",
   "execution_count": 84,
   "metadata": {},
   "outputs": [
    {
     "data": {
      "text/plain": [
       "'98'"
      ]
     },
     "execution_count": 84,
     "metadata": {},
     "output_type": "execute_result"
    }
   ],
   "source": [
    "# Extract tomato meter score\n",
    "soup.find('span',class_ = 'tMeterScore').text[:-1]"
   ]
  },
  {
   "cell_type": "code",
   "execution_count": 86,
   "metadata": {},
   "outputs": [
    {
     "data": {
      "text/plain": [
       "'114 minutes'"
      ]
     },
     "execution_count": 86,
     "metadata": {},
     "output_type": "execute_result"
    }
   ],
   "source": [
    "# Extract runtime of the movie\n",
    "soup.find_all('time')[-1].text.strip()"
   ]
  },
  {
   "cell_type": "code",
   "execution_count": 92,
   "metadata": {},
   "outputs": [
    {
     "data": {
      "text/plain": [
       "100"
      ]
     },
     "execution_count": 92,
     "metadata": {},
     "output_type": "execute_result"
    }
   ],
   "source": [
    "# total 100 movies are availbale in folder rt_html\n",
    "len(os.listdir('rt_html'))"
   ]
  },
  {
   "cell_type": "code",
   "execution_count": 88,
   "metadata": {},
   "outputs": [],
   "source": [
    "df_list = []\n",
    "\n",
    "for movie in os.listdir('rt_html'):\n",
    "    try:\n",
    "        with open(os.path.join('rt_html',movie)) as file:\n",
    "            soup = BeautifulSoup(file,'lxml')\n",
    "            title = soup.find('title').text[:-len(' - Rotten Tomatoes')]\n",
    "            user_rating = soup.find('div',class_ = 'audience-info hidden-xs superPageFontColor').find_all('div')[1].contents[-1].strip().replace(',','')\n",
    "            audience_score = soup.find('div',class_ = 'meter-value').find('span').contents[0][:-1]\n",
    "            tomato_meter = soup.find('span',class_ = 'tMeterScore').text[:-1]\n",
    "            runtime = soup.find_all('time')[-1].text.strip()\n",
    "            df_list.append({'title':title,\n",
    "                        'user_rating':user_rating,\n",
    "                        'audience_score': audience_score,\n",
    "                        'tomato_meter': tomato_meter,\n",
    "                        'runtime': runtime})\n",
    "    except Exception as e:\n",
    "        print(movie + '_' + str(e))\n",
    "        "
   ]
  },
  {
   "cell_type": "code",
   "execution_count": 93,
   "metadata": {},
   "outputs": [
    {
     "name": "stdout",
     "output_type": "stream",
     "text": [
      "Number of Observation in rt_movies: (100, 5)\n"
     ]
    },
    {
     "data": {
      "text/html": [
       "<div>\n",
       "<style scoped>\n",
       "    .dataframe tbody tr th:only-of-type {\n",
       "        vertical-align: middle;\n",
       "    }\n",
       "\n",
       "    .dataframe tbody tr th {\n",
       "        vertical-align: top;\n",
       "    }\n",
       "\n",
       "    .dataframe thead th {\n",
       "        text-align: right;\n",
       "    }\n",
       "</style>\n",
       "<table border=\"1\" class=\"dataframe\">\n",
       "  <thead>\n",
       "    <tr style=\"text-align: right;\">\n",
       "      <th></th>\n",
       "      <th>title</th>\n",
       "      <th>runtime</th>\n",
       "      <th>tomato_meter</th>\n",
       "      <th>audience_score</th>\n",
       "      <th>user_rating</th>\n",
       "    </tr>\n",
       "  </thead>\n",
       "  <tbody>\n",
       "    <tr>\n",
       "      <th>0</th>\n",
       "      <td>12 Angry Men (Twelve Angry Men) (1957)</td>\n",
       "      <td>95 minutes</td>\n",
       "      <td>98</td>\n",
       "      <td>97</td>\n",
       "      <td>103672</td>\n",
       "    </tr>\n",
       "    <tr>\n",
       "      <th>1</th>\n",
       "      <td>The 39 Steps (1935)</td>\n",
       "      <td>87 minutes</td>\n",
       "      <td>98</td>\n",
       "      <td>86</td>\n",
       "      <td>23647</td>\n",
       "    </tr>\n",
       "    <tr>\n",
       "      <th>2</th>\n",
       "      <td>The Adventures of Robin Hood (1938)</td>\n",
       "      <td>102 minutes</td>\n",
       "      <td>98</td>\n",
       "      <td>89</td>\n",
       "      <td>33584</td>\n",
       "    </tr>\n",
       "    <tr>\n",
       "      <th>3</th>\n",
       "      <td>All About Eve (1950)</td>\n",
       "      <td>138 minutes</td>\n",
       "      <td>98</td>\n",
       "      <td>94</td>\n",
       "      <td>44564</td>\n",
       "    </tr>\n",
       "    <tr>\n",
       "      <th>4</th>\n",
       "      <td>All Quiet on the Western Front (1930)</td>\n",
       "      <td>134 minutes</td>\n",
       "      <td>98</td>\n",
       "      <td>89</td>\n",
       "      <td>17768</td>\n",
       "    </tr>\n",
       "    <tr>\n",
       "      <th>5</th>\n",
       "      <td>Casablanca (1942)</td>\n",
       "      <td>102 minutes</td>\n",
       "      <td>98</td>\n",
       "      <td>95</td>\n",
       "      <td>355952</td>\n",
       "    </tr>\n",
       "    <tr>\n",
       "      <th>6</th>\n",
       "      <td>Frankenstein (1931)</td>\n",
       "      <td>70 minutes</td>\n",
       "      <td>98</td>\n",
       "      <td>87</td>\n",
       "      <td>41140</td>\n",
       "    </tr>\n",
       "    <tr>\n",
       "      <th>7</th>\n",
       "      <td>King Kong (1933)</td>\n",
       "      <td>103 minutes</td>\n",
       "      <td>98</td>\n",
       "      <td>86</td>\n",
       "      <td>89669</td>\n",
       "    </tr>\n",
       "    <tr>\n",
       "      <th>8</th>\n",
       "      <td>Laura (1944)</td>\n",
       "      <td>90 minutes</td>\n",
       "      <td>98</td>\n",
       "      <td>91</td>\n",
       "      <td>10481</td>\n",
       "    </tr>\n",
       "    <tr>\n",
       "      <th>9</th>\n",
       "      <td>M (1931)</td>\n",
       "      <td>105 minutes</td>\n",
       "      <td>98</td>\n",
       "      <td>95</td>\n",
       "      <td>35778</td>\n",
       "    </tr>\n",
       "    <tr>\n",
       "      <th>10</th>\n",
       "      <td>The Maltese Falcon (1941)</td>\n",
       "      <td>101 minutes</td>\n",
       "      <td>98</td>\n",
       "      <td>91</td>\n",
       "      <td>57268</td>\n",
       "    </tr>\n",
       "    <tr>\n",
       "      <th>11</th>\n",
       "      <td>Metropolis (1927)</td>\n",
       "      <td>115 minutes</td>\n",
       "      <td>98</td>\n",
       "      <td>92</td>\n",
       "      <td>62018</td>\n",
       "    </tr>\n",
       "    <tr>\n",
       "      <th>12</th>\n",
       "      <td>Rear Window (1954)</td>\n",
       "      <td>115 minutes</td>\n",
       "      <td>98</td>\n",
       "      <td>95</td>\n",
       "      <td>149458</td>\n",
       "    </tr>\n",
       "    <tr>\n",
       "      <th>13</th>\n",
       "      <td>Rebecca (1940)</td>\n",
       "      <td>130 minutes</td>\n",
       "      <td>98</td>\n",
       "      <td>92</td>\n",
       "      <td>39026</td>\n",
       "    </tr>\n",
       "    <tr>\n",
       "      <th>14</th>\n",
       "      <td>A Streetcar Named Desire (1951)</td>\n",
       "      <td>122 minutes</td>\n",
       "      <td>98</td>\n",
       "      <td>90</td>\n",
       "      <td>54761</td>\n",
       "    </tr>\n",
       "    <tr>\n",
       "      <th>15</th>\n",
       "      <td>Touch of Evil (1958)</td>\n",
       "      <td>95 minutes</td>\n",
       "      <td>98</td>\n",
       "      <td>92</td>\n",
       "      <td>30867</td>\n",
       "    </tr>\n",
       "    <tr>\n",
       "      <th>16</th>\n",
       "      <td>High Noon (1952)</td>\n",
       "      <td>85 minutes</td>\n",
       "      <td>98</td>\n",
       "      <td>89</td>\n",
       "      <td>25065</td>\n",
       "    </tr>\n",
       "    <tr>\n",
       "      <th>17</th>\n",
       "      <td>Snow White and the Seven Dwarfs (1937)</td>\n",
       "      <td>83 minutes</td>\n",
       "      <td>98</td>\n",
       "      <td>78</td>\n",
       "      <td>469510</td>\n",
       "    </tr>\n",
       "    <tr>\n",
       "      <th>18</th>\n",
       "      <td>12 Years a Slave (2013)</td>\n",
       "      <td>134 minutes</td>\n",
       "      <td>98</td>\n",
       "      <td>90</td>\n",
       "      <td>138789</td>\n",
       "    </tr>\n",
       "    <tr>\n",
       "      <th>19</th>\n",
       "      <td>The 400 Blows (Les Quatre cents coups) (1959)</td>\n",
       "      <td>97 minutes</td>\n",
       "      <td>98</td>\n",
       "      <td>94</td>\n",
       "      <td>38368</td>\n",
       "    </tr>\n",
       "    <tr>\n",
       "      <th>20</th>\n",
       "      <td>Alien (1979)</td>\n",
       "      <td>117 minutes</td>\n",
       "      <td>98</td>\n",
       "      <td>94</td>\n",
       "      <td>457186</td>\n",
       "    </tr>\n",
       "    <tr>\n",
       "      <th>21</th>\n",
       "      <td>Apocalypse Now (1979)</td>\n",
       "      <td>153 minutes</td>\n",
       "      <td>98</td>\n",
       "      <td>94</td>\n",
       "      <td>284606</td>\n",
       "    </tr>\n",
       "    <tr>\n",
       "      <th>22</th>\n",
       "      <td>Argo (2012)</td>\n",
       "      <td>120 minutes</td>\n",
       "      <td>98</td>\n",
       "      <td>90</td>\n",
       "      <td>207373</td>\n",
       "    </tr>\n",
       "    <tr>\n",
       "      <th>23</th>\n",
       "      <td>Army of Shadows (L'ArmÃ©e des ombres) (1969)</td>\n",
       "      <td>140 minutes</td>\n",
       "      <td>98</td>\n",
       "      <td>94</td>\n",
       "      <td>7011</td>\n",
       "    </tr>\n",
       "    <tr>\n",
       "      <th>24</th>\n",
       "      <td>Arrival (2016)</td>\n",
       "      <td>116 minutes</td>\n",
       "      <td>98</td>\n",
       "      <td>82</td>\n",
       "      <td>78740</td>\n",
       "    </tr>\n",
       "  </tbody>\n",
       "</table>\n",
       "</div>"
      ],
      "text/plain": [
       "                                            title      runtime tomato_meter  \\\n",
       "0          12 Angry Men (Twelve Angry Men) (1957)   95 minutes           98   \n",
       "1                             The 39 Steps (1935)   87 minutes           98   \n",
       "2             The Adventures of Robin Hood (1938)  102 minutes           98   \n",
       "3                            All About Eve (1950)  138 minutes           98   \n",
       "4           All Quiet on the Western Front (1930)  134 minutes           98   \n",
       "5                               Casablanca (1942)  102 minutes           98   \n",
       "6                             Frankenstein (1931)   70 minutes           98   \n",
       "7                                King Kong (1933)  103 minutes           98   \n",
       "8                                    Laura (1944)   90 minutes           98   \n",
       "9                                        M (1931)  105 minutes           98   \n",
       "10                      The Maltese Falcon (1941)  101 minutes           98   \n",
       "11                              Metropolis (1927)  115 minutes           98   \n",
       "12                             Rear Window (1954)  115 minutes           98   \n",
       "13                                 Rebecca (1940)  130 minutes           98   \n",
       "14                A Streetcar Named Desire (1951)  122 minutes           98   \n",
       "15                           Touch of Evil (1958)   95 minutes           98   \n",
       "16                               High Noon (1952)   85 minutes           98   \n",
       "17         Snow White and the Seven Dwarfs (1937)   83 minutes           98   \n",
       "18                        12 Years a Slave (2013)  134 minutes           98   \n",
       "19  The 400 Blows (Les Quatre cents coups) (1959)   97 minutes           98   \n",
       "20                                   Alien (1979)  117 minutes           98   \n",
       "21                          Apocalypse Now (1979)  153 minutes           98   \n",
       "22                                    Argo (2012)  120 minutes           98   \n",
       "23   Army of Shadows (L'ArmÃ©e des ombres) (1969)  140 minutes           98   \n",
       "24                                 Arrival (2016)  116 minutes           98   \n",
       "\n",
       "   audience_score user_rating  \n",
       "0              97      103672  \n",
       "1              86       23647  \n",
       "2              89       33584  \n",
       "3              94       44564  \n",
       "4              89       17768  \n",
       "5              95      355952  \n",
       "6              87       41140  \n",
       "7              86       89669  \n",
       "8              91       10481  \n",
       "9              95       35778  \n",
       "10             91       57268  \n",
       "11             92       62018  \n",
       "12             95      149458  \n",
       "13             92       39026  \n",
       "14             90       54761  \n",
       "15             92       30867  \n",
       "16             89       25065  \n",
       "17             78      469510  \n",
       "18             90      138789  \n",
       "19             94       38368  \n",
       "20             94      457186  \n",
       "21             94      284606  \n",
       "22             90      207373  \n",
       "23             94        7011  \n",
       "24             82       78740  "
      ]
     },
     "execution_count": 93,
     "metadata": {},
     "output_type": "execute_result"
    }
   ],
   "source": [
    "rt_movies = pd.DataFrame(df_list,columns = ['title','runtime','tomato_meter','audience_score','user_rating'])\n",
    "print(\"Number of Observation in rt_movies:\",rt_movies.shape)\n",
    "rt_movies.head(25)\n"
   ]
  },
  {
   "cell_type": "code",
   "execution_count": null,
   "metadata": {},
   "outputs": [],
   "source": []
  }
 ],
 "metadata": {
  "kernelspec": {
   "display_name": "Python 3",
   "language": "python",
   "name": "python3"
  },
  "language_info": {
   "codemirror_mode": {
    "name": "ipython",
    "version": 3
   },
   "file_extension": ".py",
   "mimetype": "text/x-python",
   "name": "python",
   "nbconvert_exporter": "python",
   "pygments_lexer": "ipython3",
   "version": "3.6.4"
  }
 },
 "nbformat": 4,
 "nbformat_minor": 2
}
