{
 "cells": [
  {
   "cell_type": "code",
   "execution_count": 140,
   "metadata": {},
   "outputs": [],
   "source": [
    "import pandas as pd\n",
    "import os\n",
    "import requests\n",
    "from bs4 import BeautifulSoup\n",
    "import numpy as np"
   ]
  },
  {
   "cell_type": "code",
   "execution_count": 141,
   "metadata": {},
   "outputs": [],
   "source": [
    "#Create folder to save all the files for scalibility and reproducibility\n",
    "folder_name = 'continents'"
   ]
  },
  {
   "cell_type": "code",
   "execution_count": 142,
   "metadata": {},
   "outputs": [],
   "source": [
    "if not os.path.exists(folder_name):\n",
    "    os.makedirs(folder_name)"
   ]
  },
  {
   "cell_type": "code",
   "execution_count": 143,
   "metadata": {},
   "outputs": [],
   "source": [
    "urls = ['https://www.whatarethe7continents.com/asia-continent/how-many-countries-in-asia/',\n",
    "        'https://www.whatarethe7continents.com/europe/many-countries-europe/',\n",
    "        'https://www.whatarethe7continents.com/africa-continent/how-many-countries-in-africa/',\n",
    "        'https://www.whatarethe7continents.com/australia/many-countries-australia/']"
   ]
  },
  {
   "cell_type": "code",
   "execution_count": 144,
   "metadata": {},
   "outputs": [
    {
     "data": {
      "text/plain": [
       "'australia'"
      ]
     },
     "execution_count": 144,
     "metadata": {},
     "output_type": "execute_result"
    }
   ],
   "source": [
    "url = 'https://www.whatarethe7continents.com/asia-continent/how-many-countries-in-australia/'\n",
    "url.split('/')[-2].split('-')[-1]"
   ]
  },
  {
   "cell_type": "code",
   "execution_count": 145,
   "metadata": {},
   "outputs": [],
   "source": [
    "# get webpage by querying requests library and write a content to a file.\n",
    "for url in urls:\n",
    "    response = requests.get(url)\n",
    "    with open(os.path.join(folder_name,url.split('/')[-2].split('-')[-1]), mode = 'wb') as file:\n",
    "        file.write(response.content)"
   ]
  },
  {
   "cell_type": "markdown",
   "metadata": {},
   "source": [
    "## Let's try out on single file"
   ]
  },
  {
   "cell_type": "code",
   "execution_count": 146,
   "metadata": {},
   "outputs": [],
   "source": [
    "# write content to a file\n",
    "with open(os.path.join(folder_name,url.split('/')[-2].split('-')[-1]), mode = 'wb') as file:\n",
    "        file.write(response.content)"
   ]
  },
  {
   "cell_type": "code",
   "execution_count": 147,
   "metadata": {},
   "outputs": [],
   "source": [
    "# create soup\n",
    "with open(os.path.join(folder_name,url.split('/')[-2].split('-')[-1])) as file:\n",
    "        soup = BeautifulSoup(file, 'lxml')"
   ]
  },
  {
   "cell_type": "code",
   "execution_count": 176,
   "metadata": {},
   "outputs": [
    {
     "name": "stdout",
     "output_type": "stream",
     "text": [
      "[<td>Australia</td>, <td>New Zealand</td>, <td>Papua New Guinea</td>, <td><strong>Total</strong></td>]\n"
     ]
    }
   ],
   "source": [
    "# Etract countries\n",
    "countries = soup.find_all('td')[::3]\n",
    "print(countries)"
   ]
  },
  {
   "cell_type": "code",
   "execution_count": 149,
   "metadata": {},
   "outputs": [
    {
     "name": "stdout",
     "output_type": "stream",
     "text": [
      "Australia\n",
      "New Zealand\n",
      "Papua New Guinea\n"
     ]
    }
   ],
   "source": [
    "# get only text\n",
    "for country in countries[:-1]:\n",
    "    print(country.text)"
   ]
  },
  {
   "cell_type": "code",
   "execution_count": 150,
   "metadata": {},
   "outputs": [],
   "source": [
    "# function creates a soup and extracts all the countries from it and then returns it to the list.\n",
    "def extract_country(folder_name,continent):\n",
    "    with open(os.path.join(folder_name,continent)) as file:\n",
    "        soup = BeautifulSoup(file, 'lxml')\n",
    "        countries = soup.find_all('td')[::3]        \n",
    "        countries_new = []\n",
    "        for country in countries[:-1]:\n",
    "            countries_new.append(country.text)\n",
    "        return countries_new\n",
    "          "
   ]
  },
  {
   "cell_type": "code",
   "execution_count": 151,
   "metadata": {},
   "outputs": [],
   "source": [
    "countries_in_asia = extract_country(folder_name,'asia')\n",
    "countries_in_europe = extract_country(folder_name,'europe')\n",
    "countries_in_africa = extract_country(folder_name,'africa')\n",
    "countries_in_australia = extract_country(folder_name,'australia')"
   ]
  },
  {
   "cell_type": "code",
   "execution_count": 152,
   "metadata": {},
   "outputs": [],
   "source": [
    "# Create series \n",
    "asia = pd.Series(countries_in_asia ,name = 'asia')\n",
    "africa = pd.Series(countries_in_africa ,name = 'africa')\n",
    "europe = pd.Series(countries_in_europe ,name = 'europe')\n",
    "australia = pd.Series(countries_in_australia ,name = 'australia')"
   ]
  },
  {
   "cell_type": "code",
   "execution_count": 153,
   "metadata": {},
   "outputs": [
    {
     "name": "stdout",
     "output_type": "stream",
     "text": [
      "Number of Countries in Africa 54\n",
      "Number of Countries in Asia 52\n",
      "Number of Countries in Europe 50\n",
      "Number of Countries in Australia 3\n"
     ]
    }
   ],
   "source": [
    "print('Number of Countries in Africa', len(africa))\n",
    "print('Number of Countries in Asia', len(asia))\n",
    "print('Number of Countries in Europe', len(europe))\n",
    "print('Number of Countries in Australia', len(australia))"
   ]
  },
  {
   "cell_type": "code",
   "execution_count": 175,
   "metadata": {},
   "outputs": [
    {
     "name": "stdout",
     "output_type": "stream",
     "text": [
      "Number of Observations in countries_df (54, 4)\n"
     ]
    },
    {
     "data": {
      "text/html": [
       "<div>\n",
       "<style scoped>\n",
       "    .dataframe tbody tr th:only-of-type {\n",
       "        vertical-align: middle;\n",
       "    }\n",
       "\n",
       "    .dataframe tbody tr th {\n",
       "        vertical-align: top;\n",
       "    }\n",
       "\n",
       "    .dataframe thead th {\n",
       "        text-align: right;\n",
       "    }\n",
       "</style>\n",
       "<table border=\"1\" class=\"dataframe\">\n",
       "  <thead>\n",
       "    <tr style=\"text-align: right;\">\n",
       "      <th></th>\n",
       "      <th>asia</th>\n",
       "      <th>europe</th>\n",
       "      <th>africa</th>\n",
       "      <th>australia</th>\n",
       "    </tr>\n",
       "  </thead>\n",
       "  <tbody>\n",
       "    <tr>\n",
       "      <th>0</th>\n",
       "      <td>China</td>\n",
       "      <td>Albania</td>\n",
       "      <td>Â Algeria</td>\n",
       "      <td>Australia</td>\n",
       "    </tr>\n",
       "    <tr>\n",
       "      <th>1</th>\n",
       "      <td>India</td>\n",
       "      <td>Andorra</td>\n",
       "      <td>Â Angola</td>\n",
       "      <td>New Zealand</td>\n",
       "    </tr>\n",
       "    <tr>\n",
       "      <th>2</th>\n",
       "      <td>Indonesia</td>\n",
       "      <td>Armenia</td>\n",
       "      <td>Â Benin</td>\n",
       "      <td>Papua New Guinea</td>\n",
       "    </tr>\n",
       "    <tr>\n",
       "      <th>3</th>\n",
       "      <td>Pakistan</td>\n",
       "      <td>Austria</td>\n",
       "      <td>Â Botswana</td>\n",
       "      <td>NaN</td>\n",
       "    </tr>\n",
       "    <tr>\n",
       "      <th>4</th>\n",
       "      <td>Bangladesh</td>\n",
       "      <td>Azerbaijan</td>\n",
       "      <td>Â Burkina Faso</td>\n",
       "      <td>NaN</td>\n",
       "    </tr>\n",
       "    <tr>\n",
       "      <th>5</th>\n",
       "      <td>Russia</td>\n",
       "      <td>Belarus</td>\n",
       "      <td>Â Burundi</td>\n",
       "      <td>NaN</td>\n",
       "    </tr>\n",
       "    <tr>\n",
       "      <th>6</th>\n",
       "      <td>Japan</td>\n",
       "      <td>Belgium</td>\n",
       "      <td>Â Cameroon</td>\n",
       "      <td>NaN</td>\n",
       "    </tr>\n",
       "    <tr>\n",
       "      <th>7</th>\n",
       "      <td>Philippines</td>\n",
       "      <td>Bosnia and Herzegovina</td>\n",
       "      <td>Â Cape Verde</td>\n",
       "      <td>NaN</td>\n",
       "    </tr>\n",
       "    <tr>\n",
       "      <th>8</th>\n",
       "      <td>Vietnam</td>\n",
       "      <td>Bulgaria</td>\n",
       "      <td>Â Central African Republic</td>\n",
       "      <td>NaN</td>\n",
       "    </tr>\n",
       "    <tr>\n",
       "      <th>9</th>\n",
       "      <td>Turkey</td>\n",
       "      <td>Croatia</td>\n",
       "      <td>Â Chad</td>\n",
       "      <td>NaN</td>\n",
       "    </tr>\n",
       "    <tr>\n",
       "      <th>10</th>\n",
       "      <td>Iran</td>\n",
       "      <td>CyprusÂ</td>\n",
       "      <td>Â Comoros</td>\n",
       "      <td>NaN</td>\n",
       "    </tr>\n",
       "    <tr>\n",
       "      <th>11</th>\n",
       "      <td>Thailand</td>\n",
       "      <td>Czech Republic</td>\n",
       "      <td>Â Democratic Republic of the Congo</td>\n",
       "      <td>NaN</td>\n",
       "    </tr>\n",
       "    <tr>\n",
       "      <th>12</th>\n",
       "      <td>Myanmar</td>\n",
       "      <td>Denmark</td>\n",
       "      <td>Â Djibouti</td>\n",
       "      <td>NaN</td>\n",
       "    </tr>\n",
       "    <tr>\n",
       "      <th>13</th>\n",
       "      <td>South Korea</td>\n",
       "      <td>Estonia</td>\n",
       "      <td>Â Egypt</td>\n",
       "      <td>NaN</td>\n",
       "    </tr>\n",
       "    <tr>\n",
       "      <th>14</th>\n",
       "      <td>Iraq</td>\n",
       "      <td>Finland</td>\n",
       "      <td>Â Equatorial Guinea</td>\n",
       "      <td>NaN</td>\n",
       "    </tr>\n",
       "    <tr>\n",
       "      <th>15</th>\n",
       "      <td>Saudi Arabia</td>\n",
       "      <td>FranceÂ</td>\n",
       "      <td>Â Eritrea</td>\n",
       "      <td>NaN</td>\n",
       "    </tr>\n",
       "    <tr>\n",
       "      <th>16</th>\n",
       "      <td>Malaysia</td>\n",
       "      <td>Georgia</td>\n",
       "      <td>Â Ethiopia</td>\n",
       "      <td>NaN</td>\n",
       "    </tr>\n",
       "    <tr>\n",
       "      <th>17</th>\n",
       "      <td>Afghanistan</td>\n",
       "      <td>Germany</td>\n",
       "      <td>Â Gabon</td>\n",
       "      <td>NaN</td>\n",
       "    </tr>\n",
       "    <tr>\n",
       "      <th>18</th>\n",
       "      <td>Nepal</td>\n",
       "      <td>Greece</td>\n",
       "      <td>Â Gambia</td>\n",
       "      <td>NaN</td>\n",
       "    </tr>\n",
       "    <tr>\n",
       "      <th>19</th>\n",
       "      <td>Uzbekistan</td>\n",
       "      <td>Hungary</td>\n",
       "      <td>Â Ghana</td>\n",
       "      <td>NaN</td>\n",
       "    </tr>\n",
       "  </tbody>\n",
       "</table>\n",
       "</div>"
      ],
      "text/plain": [
       "            asia                  europe                              africa  \\\n",
       "0          China                 Albania                           Â Algeria   \n",
       "1          India                 Andorra                            Â Angola   \n",
       "2      Indonesia                 Armenia                             Â Benin   \n",
       "3       Pakistan                 Austria                          Â Botswana   \n",
       "4     Bangladesh              Azerbaijan                      Â Burkina Faso   \n",
       "5         Russia                 Belarus                           Â Burundi   \n",
       "6          Japan                 Belgium                          Â Cameroon   \n",
       "7    Philippines  Bosnia and Herzegovina                        Â Cape Verde   \n",
       "8        Vietnam                Bulgaria          Â Central African Republic   \n",
       "9         Turkey                 Croatia                              Â Chad   \n",
       "10          Iran                CyprusÂ                            Â Comoros   \n",
       "11      Thailand          Czech Republic  Â Democratic Republic of the Congo   \n",
       "12       Myanmar                 Denmark                          Â Djibouti   \n",
       "13   South Korea                 Estonia                             Â Egypt   \n",
       "14          Iraq                 Finland                 Â Equatorial Guinea   \n",
       "15  Saudi Arabia                FranceÂ                            Â Eritrea   \n",
       "16      Malaysia                 Georgia                          Â Ethiopia   \n",
       "17   Afghanistan                 Germany                             Â Gabon   \n",
       "18         Nepal                  Greece                            Â Gambia   \n",
       "19    Uzbekistan                 Hungary                             Â Ghana   \n",
       "\n",
       "           australia  \n",
       "0          Australia  \n",
       "1        New Zealand  \n",
       "2   Papua New Guinea  \n",
       "3                NaN  \n",
       "4                NaN  \n",
       "5                NaN  \n",
       "6                NaN  \n",
       "7                NaN  \n",
       "8                NaN  \n",
       "9                NaN  \n",
       "10               NaN  \n",
       "11               NaN  \n",
       "12               NaN  \n",
       "13               NaN  \n",
       "14               NaN  \n",
       "15               NaN  \n",
       "16               NaN  \n",
       "17               NaN  \n",
       "18               NaN  \n",
       "19               NaN  "
      ]
     },
     "execution_count": 175,
     "metadata": {},
     "output_type": "execute_result"
    }
   ],
   "source": [
    "# Create dataframe of countries in continents\n",
    "countries_df = pd.concat([asia,europe,africa,australia],axis= 1)\n",
    "print(\"Number of Observations in countries_df\", countries_df.shape)\n",
    "\n",
    "countries_df.head(20)\n",
    "\n"
   ]
  },
  {
   "cell_type": "code",
   "execution_count": null,
   "metadata": {},
   "outputs": [],
   "source": []
  }
 ],
 "metadata": {
  "kernelspec": {
   "display_name": "Python 3",
   "language": "python",
   "name": "python3"
  },
  "language_info": {
   "codemirror_mode": {
    "name": "ipython",
    "version": 3
   },
   "file_extension": ".py",
   "mimetype": "text/x-python",
   "name": "python",
   "nbconvert_exporter": "python",
   "pygments_lexer": "ipython3",
   "version": "3.6.4"
  }
 },
 "nbformat": 4,
 "nbformat_minor": 2
}
